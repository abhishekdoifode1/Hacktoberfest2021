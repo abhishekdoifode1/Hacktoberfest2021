{
 "cells": [
  {
   "cell_type": "markdown",
   "metadata": {},
   "source": [
    "# Norm\n",
    "A norm is a function that measures the size of things. $L_1$ , $L_2$ and $L_\\infty$ are most popular\n",
    "norms. Which are defined as follow.\n",
    "$$L_1: \\| x \\|_1 = \\sum_{i=1}^{n} | x_i^1| $$\n",
    "\n",
    "$$L_2: \\| x \\|_2 = (\\sum_{i=1}^{n} | x_i|)^\\frac{1}{2} $$\n",
    "\n",
    "$$L_\\infty: \\| x \\|_\\infty = max_{ x\\in\\{1,2,3,..,n\\}}|x_i| $$\n",
    "\n"
   ]
  },
  {
   "cell_type": "markdown",
   "metadata": {},
   "source": [
    "# R Code to Calculate $L_1$ , $L_2$ and $L_\\infty$ Norm."
   ]
  },
  {
   "cell_type": "code",
   "execution_count": 2,
   "metadata": {
    "ExecuteTime": {
     "end_time": "2021-10-05T07:36:38.043343Z",
     "start_time": "2021-10-05T07:36:37.992Z"
    }
   },
   "outputs": [
    {
     "name": "stdout",
     "output_type": "stream",
     "text": [
      "[1] 1 2 3\n"
     ]
    }
   ],
   "source": [
    "x <- 1:3 # create a vector\n",
    "print(x)\n"
   ]
  },
  {
   "cell_type": "code",
   "execution_count": 3,
   "metadata": {
    "ExecuteTime": {
     "end_time": "2021-10-05T07:36:47.770797Z",
     "start_time": "2021-10-05T07:36:47.744Z"
    }
   },
   "outputs": [
    {
     "name": "stdout",
     "output_type": "stream",
     "text": [
      "     [,1]\n",
      "[1,]    1\n",
      "[2,]    2\n",
      "[3,]    3\n"
     ]
    }
   ],
   "source": [
    "y <- as.matrix(x) # store the vector as a matrix.\n",
    "print(y)\n"
   ]
  },
  {
   "cell_type": "code",
   "execution_count": 4,
   "metadata": {
    "ExecuteTime": {
     "end_time": "2021-10-05T07:37:34.189626Z",
     "start_time": "2021-10-05T07:37:34.157Z"
    }
   },
   "outputs": [
    {
     "data": {
      "text/html": [
       "6"
      ],
      "text/latex": [
       "6"
      ],
      "text/markdown": [
       "6"
      ],
      "text/plain": [
       "[1] 6"
      ]
     },
     "metadata": {},
     "output_type": "display_data"
    }
   ],
   "source": [
    "# L1 Norm\n",
    "norm(as.matrix(x),\"1\") \n"
   ]
  },
  {
   "cell_type": "code",
   "execution_count": 5,
   "metadata": {
    "ExecuteTime": {
     "end_time": "2021-10-05T07:38:06.124974Z",
     "start_time": "2021-10-05T07:38:06.100Z"
    }
   },
   "outputs": [
    {
     "data": {
      "text/html": [
       "3.74165738677394"
      ],
      "text/latex": [
       "3.74165738677394"
      ],
      "text/markdown": [
       "3.74165738677394"
      ],
      "text/plain": [
       "[1] 3.741657"
      ]
     },
     "metadata": {},
     "output_type": "display_data"
    }
   ],
   "source": [
    "# L2 Norm\n",
    "norm(as.matrix(x),\"2\")\n"
   ]
  },
  {
   "cell_type": "code",
   "execution_count": 6,
   "metadata": {
    "ExecuteTime": {
     "end_time": "2021-10-05T07:38:32.097134Z",
     "start_time": "2021-10-05T07:38:32.065Z"
    }
   },
   "outputs": [
    {
     "data": {
      "text/html": [
       "3"
      ],
      "text/latex": [
       "3"
      ],
      "text/markdown": [
       "3"
      ],
      "text/plain": [
       "[1] 3"
      ]
     },
     "metadata": {},
     "output_type": "display_data"
    }
   ],
   "source": [
    "# L infinity norm\n",
    "norm(as.matrix(x),\"M\")# L infinity norm."
   ]
  },
  {
   "cell_type": "markdown",
   "metadata": {},
   "source": [
    "We notice that $$\\| x \\|_\\infty \\leq \\|x\\|_2 \\leq \\|x\\|_1$$. To be sure let us test  more example."
   ]
  },
  {
   "cell_type": "markdown",
   "metadata": {},
   "source": [
    "## Take n = 10 and  $ 𝑥\\in𝑅^𝑛 $ be a vector with  $𝑥_𝑖= \\frac{1}{i}$."
   ]
  },
  {
   "cell_type": "code",
   "execution_count": 7,
   "metadata": {
    "ExecuteTime": {
     "end_time": "2021-10-05T07:51:47.139224Z",
     "start_time": "2021-10-05T07:51:47.099Z"
    }
   },
   "outputs": [
    {
     "data": {
      "text/html": [
       "2.92896825396825"
      ],
      "text/latex": [
       "2.92896825396825"
      ],
      "text/markdown": [
       "2.92896825396825"
      ],
      "text/plain": [
       "[1] 2.928968"
      ]
     },
     "metadata": {},
     "output_type": "display_data"
    },
    {
     "data": {
      "text/html": [
       "1.24489667489577"
      ],
      "text/latex": [
       "1.24489667489577"
      ],
      "text/markdown": [
       "1.24489667489577"
      ],
      "text/plain": [
       "[1] 1.244897"
      ]
     },
     "metadata": {},
     "output_type": "display_data"
    },
    {
     "data": {
      "text/html": [
       "1"
      ],
      "text/latex": [
       "1"
      ],
      "text/markdown": [
       "1"
      ],
      "text/plain": [
       "[1] 1"
      ]
     },
     "metadata": {},
     "output_type": "display_data"
    }
   ],
   "source": [
    "# Initialize column vector.\n",
    "x <- c(1,1/2,1/3,1/4,1/5,1/6,1/7,1/8,1/9,1/10) \n",
    " # we made column vector as a matrix\n",
    "y <- as.matrix(x)\n",
    "#L1 norm\n",
    "norm(as.matrix(x),\"o\")\n",
    "# L2 norm\n",
    "norm(as.matrix(x),\"e\")\n",
    "# L infinity norm\n",
    "norm(as.matrix(x),\"i\") # L infinity\n"
   ]
  },
  {
   "cell_type": "markdown",
   "metadata": {},
   "source": [
    "##  Take n = 10 and  $ 𝑥\\in𝑅^𝑛 $ be a vector with  $𝑥_𝑖= 1$.\n",
    "Here `rep()` function repeat the same number for given times."
   ]
  },
  {
   "cell_type": "code",
   "execution_count": 9,
   "metadata": {
    "ExecuteTime": {
     "end_time": "2021-10-05T07:56:29.794718Z",
     "start_time": "2021-10-05T07:56:29.755Z"
    }
   },
   "outputs": [
    {
     "data": {
      "text/html": [
       "10"
      ],
      "text/latex": [
       "10"
      ],
      "text/markdown": [
       "10"
      ],
      "text/plain": [
       "[1] 10"
      ]
     },
     "metadata": {},
     "output_type": "display_data"
    },
    {
     "data": {
      "text/html": [
       "3.16227766016838"
      ],
      "text/latex": [
       "3.16227766016838"
      ],
      "text/markdown": [
       "3.16227766016838"
      ],
      "text/plain": [
       "[1] 3.162278"
      ]
     },
     "metadata": {},
     "output_type": "display_data"
    },
    {
     "data": {
      "text/html": [
       "1"
      ],
      "text/latex": [
       "1"
      ],
      "text/markdown": [
       "1"
      ],
      "text/plain": [
       "[1] 1"
      ]
     },
     "metadata": {},
     "output_type": "display_data"
    }
   ],
   "source": [
    "# initialize vector.\n",
    "x <- rep(1,times= 10)\n",
    "# store the vector as a matrix.\n",
    "y <- as.matrix(x) \n",
    "#L1 Norm\n",
    "norm(y,\"1\") \n",
    "# L2 Norm\n",
    "norm(y,\"2\")\n",
    "# L infinity\n",
    "norm(y,\"M\")"
   ]
  },
  {
   "cell_type": "markdown",
   "metadata": {},
   "source": [
    "The `runif()` function generates random deviates of the uniform distribution and is written as `runif(n, min = 0, max = 1)`"
   ]
  },
  {
   "cell_type": "code",
   "execution_count": 2,
   "metadata": {},
   "outputs": [
    {
     "data": {
      "text/html": [
       "3.99010583176278"
      ],
      "text/latex": [
       "3.99010583176278"
      ],
      "text/markdown": [
       "3.99010583176278"
      ],
      "text/plain": [
       "[1] 3.990106"
      ]
     },
     "metadata": {},
     "output_type": "display_data"
    },
    {
     "data": {
      "text/html": [
       "1.47123861733563"
      ],
      "text/latex": [
       "1.47123861733563"
      ],
      "text/markdown": [
       "1.47123861733563"
      ],
      "text/plain": [
       "[1] 1.471239"
      ]
     },
     "metadata": {},
     "output_type": "display_data"
    },
    {
     "data": {
      "text/html": [
       "0.967386882519349"
      ],
      "text/latex": [
       "0.967386882519349"
      ],
      "text/markdown": [
       "0.967386882519349"
      ],
      "text/plain": [
       "[1] 0.9673869"
      ]
     },
     "metadata": {},
     "output_type": "display_data"
    }
   ],
   "source": [
    "x <- runif(10, 0, 1)\n",
    "y <- as.matrix(x)\n",
    "norm(y,\"1\")\n",
    "norm(y,\"2\")\n",
    "norm(y,\"M\")"
   ]
  },
  {
   "cell_type": "markdown",
   "metadata": {},
   "source": [
    "We all familiar that, in R in a range upper and lower elements are always excluded so to include lower element in range we can follow the following process."
   ]
  },
  {
   "cell_type": "code",
   "execution_count": 9,
   "metadata": {},
   "outputs": [
    {
     "data": {
      "text/html": [
       "5.66686014598235"
      ],
      "text/latex": [
       "5.66686014598235"
      ],
      "text/markdown": [
       "5.66686014598235"
      ],
      "text/plain": [
       "[1] 5.66686"
      ]
     },
     "metadata": {},
     "output_type": "display_data"
    },
    {
     "data": {
      "text/html": [
       "1.98653309862696"
      ],
      "text/latex": [
       "1.98653309862696"
      ],
      "text/markdown": [
       "1.98653309862696"
      ],
      "text/plain": [
       "[1] 1.986533"
      ]
     },
     "metadata": {},
     "output_type": "display_data"
    },
    {
     "data": {
      "text/html": [
       "0.977165280142799"
      ],
      "text/latex": [
       "0.977165280142799"
      ],
      "text/markdown": [
       "0.977165280142799"
      ],
      "text/plain": [
       "[1] 0.9771653"
      ]
     },
     "metadata": {},
     "output_type": "display_data"
    }
   ],
   "source": [
    "x<- runif(10) #  including 0 not 1 \n",
    "y <- c(x,0)\n",
    "z <- as.matrix(y)\n",
    "norm(z,\"1\")\n",
    "norm(z,\"2\")\n",
    "norm(z,\"M\")"
   ]
  },
  {
   "cell_type": "markdown",
   "metadata": {
    "ExecuteTime": {
     "end_time": "2021-10-05T08:04:35.061892Z",
     "start_time": "2021-10-05T08:04:35.037Z"
    }
   },
   "source": [
    " overall, we conclude that  $$\\| x \\|_\\infty \\leq \\|x\\|_2 \\leq \\|x\\|_1$$."
   ]
  },
  {
   "cell_type": "code",
   "execution_count": null,
   "metadata": {},
   "outputs": [],
   "source": []
  }
 ],
 "metadata": {
  "kernelspec": {
   "display_name": "R",
   "language": "R",
   "name": "ir"
  },
  "language_info": {
   "codemirror_mode": "r",
   "file_extension": ".r",
   "mimetype": "text/x-r-source",
   "name": "R",
   "pygments_lexer": "r",
   "version": "4.1.1"
  },
  "latex_envs": {
   "LaTeX_envs_menu_present": true,
   "autoclose": false,
   "autocomplete": true,
   "bibliofile": "biblio.bib",
   "cite_by": "apalike",
   "current_citInitial": 1,
   "eqLabelWithNumbers": true,
   "eqNumInitial": 1,
   "hotkeys": {
    "equation": "Ctrl-E",
    "itemize": "Ctrl-I"
   },
   "labels_anchors": false,
   "latex_user_defs": false,
   "report_style_numbering": false,
   "user_envs_cfg": false
  },
  "toc": {
   "base_numbering": 1,
   "nav_menu": {},
   "number_sections": true,
   "sideBar": true,
   "skip_h1_title": false,
   "title_cell": "Table of Contents",
   "title_sidebar": "Contents",
   "toc_cell": false,
   "toc_position": {},
   "toc_section_display": true,
   "toc_window_display": false
  }
 },
 "nbformat": 4,
 "nbformat_minor": 4
}
